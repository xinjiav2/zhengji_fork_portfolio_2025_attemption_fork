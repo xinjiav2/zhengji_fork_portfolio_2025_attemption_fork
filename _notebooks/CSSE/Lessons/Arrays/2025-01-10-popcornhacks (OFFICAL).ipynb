{
 "cells": [
  {
   "cell_type": "markdown",
   "metadata": {},
   "source": [
    "```yaml\n",
    "\n",
    "---\n",
    "layout: page\n",
    "title: Popcorn Hacks One\n",
    "permalink: /phjupyter/\n",
    "---"
   ]
  },
  {
   "cell_type": "markdown",
   "metadata": {},
   "source": [
    "---\n",
    "Popcorn Hacks One\n",
    "---"
   ]
  },
  {
   "cell_type": "markdown",
   "metadata": {},
   "source": [
    " - Delete the last two items of the list below (delete1 and delete2)\n",
    " - Change the non dessert item (fries) to a dessert\n",
    " - Add two more desserts to list"
   ]
  },
  {
   "cell_type": "code",
   "execution_count": null,
   "metadata": {
    "vscode": {
     "languageId": "javascript"
    }
   },
   "outputs": [],
   "source": [
    "%%js\n",
    "\n",
    "let desserts = ['cake', 'ice cream', 'cookies', 'fries', 'delete1', 'delete2']\n",
    "\n",
    "console.log(desserts.join(\", \"))"
   ]
  },
  {
   "cell_type": "markdown",
   "metadata": {},
   "source": [
    "---\n",
    "Popcorn Hack Two\n",
    "---"
   ]
  },
  {
   "cell_type": "markdown",
   "metadata": {},
   "source": [
    "<br>\n",
    " - Create a length of a list and print it in console.log()\n",
    "\n",
    "<br>\n",
    " - Create a variable called \"list\" or \"my_list_2\"\n",
    "<br>\n",
    " - Create a list of numbers or words in the brackets [] Exp: let your_list = [3, 7, 9, 21];\n",
    "<br>\n",
    " - Create a const length = your_list.length;\n",
    "<br>\n",
    " - After all of that, finally print it out in console.log() Exp: console.log(your_list);\n",
    "<br>"
   ]
  },
  {
   "cell_type": "code",
   "execution_count": null,
   "metadata": {
    "vscode": {
     "languageId": "javascript"
    }
   },
   "outputs": [],
   "source": [
    "%%js   \n",
    "\n",
    "\n",
    "let \" \" = []; // create an variable \n",
    "\n",
    "\n",
    "const length = \"\".length; // create a const length\n",
    "\n",
    "\n",
    "console.log(\"\"); // print out your list in console"
   ]
  }
 ],
 "metadata": {
  "language_info": {
   "name": "python"
  }
 },
 "nbformat": 4,
 "nbformat_minor": 2
}
